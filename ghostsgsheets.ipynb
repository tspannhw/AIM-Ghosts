{
 "cells": [
  {
   "cell_type": "code",
   "execution_count": 34,
   "id": "4fa2a70f-6e48-4c30-8773-a4936a92a6e0",
   "metadata": {},
   "outputs": [],
   "source": [
    "!pip3 install --upgrade  -q gdown"
   ]
  },
  {
   "cell_type": "markdown",
   "id": "440b8ce7-b51e-4a51-8399-4af3beac7c3c",
   "metadata": {},
   "source": [
    "## 👽 Goal of this Notebook\n",
    "\n",
    "In this notebook we will run Ghostly? 👻  Ghastly? ingest from Google Sheets/Form into our \"ghosts\" collection in the open source Milvus vector database.\n",
    "\n",
    "\n",
    "### 👻 Simple Unstructured Analytics:\n",
    "\n",
    "### 🔍 Summary\n",
    "By the end of this application, you will see that we can grab any form entry values that Google saved in a Google Sheet and parse those CSV to insert into Milvus.\n",
    "\n",
    "We could have done this in Datavolo Apache NiFi, Ray, Apache Spark, Apache Kafka, Apache Seatunnel, Java, .NET, Golang, NodeJS, Airbyte, FiveTran and other more heavy duty production ETL tools.\n",
    "\n",
    "\n",
    "#### 🐍 AIM Stack - Easy Local Free Open Source RAG\n",
    "\n",
    "* Ollama\n",
    "* Python\n",
    "* Jupyter Lab Notebook\n",
    "* Milvus Vector Database\n",
    "* Pymilvus\n",
    "* Sentence Transformers\n",
    "* Hugging Face\n",
    "\n",
    "#### 🌐 Models\n",
    "\n",
    "* BGE-M3 - BAAI/bge-m3\n",
    "* LLava - llava:7b\n",
    "* GTE - Alibaba-NLP/gte-base-en-v1.5\n",
    "* SPLADE - naver/splade-cocondenser-selfdistil\n",
    "* CLIP - clip-ViT-B-32\n",
    "\n",
    "![milvuslogo](https://milvus.io/images/milvus_logo.svg)\n",
    "\n",
    "#### 🎃 Resources\n",
    "\n",
    "* https://github.com/tspannhw/AIM-BecomingAnAIEngineer\n",
    "* https://github.com/tspannhw/FLiPStackWeekly\n",
    "* https://medium.com/@tspann/ghosts-are-unstructured-data-i-e31b34c0d9e4\n",
    "* https://github.com/tspannhw/AIM-Ghosts\n",
    "* https://zilliz.com/community/unstructured-data-meetup\n",
    "* https://www.meetup.com/unstructured-data-meetup-new-york/\n",
    "* https://lu.ma/naqu6xrd?tk=kJaUfp\n",
    "* https://zilliz.com/learn/an-ultimate-guide-to-vectorizing-structured-data\n",
    "* https://zilliz.com/blog/metadata-filtering-hybrid-search-or-agent-in-rag-applications\n",
    "  \n",
    "Open Source Milvus"
   ]
  },
  {
   "cell_type": "code",
   "execution_count": 4,
   "id": "ff6d5462-585e-482b-8f8d-66cc89856e67",
   "metadata": {},
   "outputs": [
    {
     "data": {
      "application/vnd.jupyter.widget-view+json": {
       "model_id": "c7b8b7f68a1c48f4b59000443e724557",
       "version_major": 2,
       "version_minor": 0
      },
      "text/plain": [
       "Fetching 30 files:   0%|          | 0/30 [00:00<?, ?it/s]"
      ]
     },
     "metadata": {},
     "output_type": "display_data"
    }
   ],
   "source": [
    "import warnings\n",
    "warnings.filterwarnings('ignore')\n",
    "warnings.filterwarnings(\"ignore\", category=DeprecationWarning)\n",
    "warnings.filterwarnings(\"ignore\", category=FutureWarning)\n",
    "import os\n",
    "import requests\n",
    "import base64\n",
    "from tqdm.notebook import tqdm\n",
    "from PIL import Image\n",
    "from sentence_transformers import SentenceTransformer\n",
    "from pymilvus import MilvusClient\n",
    "import requests\n",
    "from pymilvus import (\n",
    "   utility,\n",
    "   FieldSchema, CollectionSchema, DataType,\n",
    "   Collection, AnnSearchRequest, RRFRanker, connections,\n",
    ")\n",
    "from pymilvus.model.dense import SentenceTransformerEmbeddingFunction\n",
    "from pymilvus.model.sparse import SpladeEmbeddingFunction\n",
    "from pymilvus.model.hybrid import BGEM3EmbeddingFunction\n",
    "from dotenv import load_dotenv\n",
    "load_dotenv(override=True)\n",
    "\n",
    "\n",
    "# Multi\n",
    "bge_m3 = BGEM3EmbeddingFunction(\n",
    "    model_name = 'BAAI/bge-m3', \n",
    "    device = 'cpu', \n",
    "    use_fp16 = False\n",
    ")\n",
    "\n",
    "# BGE-M3 Sparse\n",
    "dense_dim = bge_m3.dim[\"dense\"] \n",
    "\n",
    "# Slade Sparse\n",
    "splade_ef = SpladeEmbeddingFunction(\n",
    "    model_name=\"naver/splade-cocondenser-selfdistil\", \n",
    "    device=\"cpu\"\n",
    ")\n",
    "\n",
    "# Load CLIP model\n",
    "model = SentenceTransformer('clip-ViT-B-32')\n",
    "\n",
    "# Big Text\n",
    "textmodel = SentenceTransformer(\"Alibaba-NLP/gte-base-en-v1.5\", trust_remote_code=True)"
   ]
  },
  {
   "cell_type": "code",
   "execution_count": 5,
   "id": "c984dcb3-dfc7-4df3-8b91-f5b25b82ad3d",
   "metadata": {},
   "outputs": [
    {
     "name": "stdout",
     "output_type": "stream",
     "text": [
      "ghosts exists\n",
      "{'state': <LoadState: Loaded>}\n"
     ]
    }
   ],
   "source": [
    "# Connect to Milvus Standalone on Docker\n",
    "from pymilvus import connections\n",
    "from pymilvus import utility\n",
    "from pymilvus import FieldSchema, CollectionSchema, DataType, Collection\n",
    "from pymilvus import MilvusClient\n",
    "\n",
    "### Constants\n",
    "S3_URL = \"http://192.168.1.166:9000\"\n",
    "MINIO_USER = 'minioadmin'\n",
    "MINIO_PASSWORD = 'minioadmin'\n",
    "MINIO_REGION = 'us-east-1'\n",
    "\n",
    "MILVUS_URL = \"http://192.168.1.166:19530\" \n",
    "\n",
    "milvus_client = MilvusClient(uri=MILVUS_URL)\n",
    "DIMENSION = 512\n",
    "TEXTDIMENSION = 768\n",
    "COLLECTION = \"ghosts\"\n",
    "\n",
    "ghost_classes = [\"Fake\", \"Art\", \"TV\", \"Unclassified\", \"Class I\", \"Class II\", \"Class III\", \"Class IV\", \"Class V\", \"Class VI\", \"Class VII\"]\n",
    "\n",
    "connections.connect(uri=MILVUS_URL)\n",
    "\n",
    "fields = [\n",
    "    FieldSchema(name='id', dtype=DataType.INT64, is_primary=True, auto_id=True),\n",
    "    FieldSchema(name='ghostclass', dtype=DataType.VARCHAR, max_length=20),\n",
    "    FieldSchema(name='filename', dtype=DataType.VARCHAR, max_length=256),\n",
    "    FieldSchema(name='s3path', dtype=DataType.VARCHAR, max_length=1024),\n",
    "    FieldSchema(name='description', dtype=DataType.VARCHAR, max_length=65000),\n",
    "    FieldSchema(name='category', dtype=DataType.VARCHAR, max_length=256), \n",
    "    FieldSchema(name='identification', dtype=DataType.VARCHAR, max_length=50),  \n",
    "    FieldSchema(name='location', dtype=DataType.VARCHAR, max_length=256),  \n",
    "    FieldSchema(name='country', dtype=DataType.VARCHAR, max_length=4),\n",
    "    FieldSchema(name='latitude', dtype=DataType.VARCHAR, max_length=20),\n",
    "    FieldSchema(name='longitude', dtype=DataType.VARCHAR, max_length=20),      \n",
    "    FieldSchema(name='zipcode', dtype=DataType.VARCHAR, max_length=20),  \n",
    "    FieldSchema(name='timestamp', dtype=DataType.VARCHAR, max_length=128),\n",
    "    FieldSchema(name='s3timestamp', dtype=DataType.VARCHAR, max_length=128),\n",
    "    FieldSchema(name='vector', dtype=DataType.FLOAT_VECTOR, dim=DIMENSION),\n",
    "    FieldSchema(name=\"text_vector\", dtype=DataType.SPARSE_FLOAT_VECTOR),\n",
    "    FieldSchema(name=\"text_vector2\", dtype=DataType.FLOAT_VECTOR, dim=TEXTDIMENSION),\n",
    "    FieldSchema(name=\"text_vector3\", dtype=DataType.FLOAT_VECTOR, dim=dense_dim)\n",
    "]\n",
    "\n",
    "# with partitioning\n",
    "schema = CollectionSchema(fields=fields, partition_key_field=\"ghostclass\", num_partitions=8 )\n",
    "\n",
    "if milvus_client.has_collection(collection_name=COLLECTION):\n",
    "    print(COLLECTION + \" exists\")\n",
    "else:\n",
    "    milvus_client.create_collection(COLLECTION, schema=schema,  auto_id=True)\n",
    "\n",
    "    index_params = milvus_client.prepare_index_params()\n",
    "    \n",
    "    index_params.add_index(field_name = \"id\", index_type=\"STL_SORT\")\n",
    "    index_params.add_index(field_name = \"ghostclass\", index_type=\"TRIE\")\n",
    "    index_params.add_index(field_name = \"zipcode\",  index_type=\"INVERTED\", index_name=\"inverted_index\")\n",
    "    index_params.add_index(field_name = \"vector\", metric_type=\"COSINE\")\n",
    "    index_params.add_index(field_name = \"text_vector\", index_type=\"SPARSE_INVERTED_INDEX\", metric_type=\"IP\")\n",
    "    index_params.add_index(field_name = \"text_vector2\", metric_type=\"COSINE\")\n",
    "    index_params.add_index(field_name = \"text_vector3\", metric_type= \"L2\", index_type=\"IVF_FLAT\", params = {\"nlist\": 128} )\n",
    "\n",
    "    milvus_client.create_index( collection_name=COLLECTION, index_params=index_params)\n",
    "    \n",
    "    res = milvus_client.get_load_state( collection_name = COLLECTION)\n",
    "    \n",
    "    print(res)\n",
    "\n",
    "milvus_client.load_collection(COLLECTION)\n",
    "res = milvus_client.get_load_state( collection_name = COLLECTION )\n",
    "print(res)\n",
    "\n",
    "### for hybrid search\n",
    "collection = Collection(name=COLLECTION, schema=schema)"
   ]
  },
  {
   "cell_type": "code",
   "execution_count": 43,
   "id": "c0ccda89-6ce7-46b1-b810-e28163320f65",
   "metadata": {},
   "outputs": [
    {
     "name": "stdout",
     "output_type": "stream",
     "text": [
      "Skipping First Row of CSV - Header\n",
      "Class III https://drive.google.com/open?id=1kc8sMST5C6vWnEZraIVJWVNmi9M7lflO\n",
      "Image sucessfully Downloaded:  tempimage.png\n",
      "Art https://drive.google.com/open?id=1YKcJ47Ekdx0jV1AFO_-G9pjZEes5YVgl\n",
      "Image sucessfully Downloaded:  tempimage.png\n",
      "Class II https://github.com/tspannhw/AIM-Ghosts/blob/main/happyhalloween2024.jpg?raw=true\n",
      "Inserted Time: 17.4714 seconds\n",
      "\n",
      "\n",
      "Inserted 3 rows.\n"
     ]
    }
   ],
   "source": [
    "import random\n",
    "from datetime import datetime\n",
    "import pprint\n",
    "import time\n",
    "import csv\n",
    "import requests\n",
    "import time\n",
    "import datetime\n",
    "from time import gmtime, strftime\n",
    "import random, string\n",
    "import uuid\n",
    "from random import seed\n",
    "from random import random\n",
    "from io import BytesIO\n",
    "from datetime import datetime\n",
    "import requests \n",
    "import shutil \n",
    "import gdown\n",
    "from PIL import Image, ImageFile\n",
    "ImageFile.LOAD_TRUNCATED_IMAGES = True\n",
    "\n",
    "GHOST_BUCKET = \"images\"\n",
    "\n",
    "### full load\n",
    "loadt0 = time.time()\n",
    "\n",
    "### random\n",
    "seed(1)\n",
    "\n",
    "### URL download\n",
    "CSV_URL = \"\"\n",
    "# Timestamp\tEmail Address\tGhost Class\tDescription\tCategory\tLocation\tPhotos\n",
    "\n",
    "### Row Count\n",
    "rowCount = 0\n",
    "\n",
    "with requests.Session() as s:\n",
    "    download = s.get(CSV_URL)\n",
    "\n",
    "    decoded_content = download.content.decode('utf-8')\n",
    "    cr = csv.reader(decoded_content.splitlines(), delimiter=',')\n",
    "    my_list = list(cr)\n",
    "    for row in my_list:\n",
    "        \n",
    "        # print(row)\n",
    "        if ( row[0] == \"Timestamp\"):\n",
    "            print(\"Skipping First Row of CSV - Header\")\n",
    "        else:\n",
    "            rowCount = rowCount + 1\n",
    "            # row[0] - timestamp\n",
    "            # row[1] - email   <--- add hidden field?  encrypt?   ignore pii\n",
    "            # row[2] - ghost class\n",
    "            # row[3] - description\n",
    "            # row[4] - category\n",
    "            # row[5] - location\n",
    "            # row[6] - photo\n",
    "            print( str(row[2]) + \" \" + str(row[6]) )\n",
    "            image = None\n",
    "            \n",
    "            try:\n",
    "                rawtext = str(row[6])\n",
    "\n",
    "                if \"drive.google.com\" in rawtext: \n",
    "                    imagelinks = rawtext.split(\"=\")\n",
    "                    imageurl = str( \"https://drive.google.com/uc?export=view&id=\" + str(imagelinks[1]))\n",
    "                    file_name = \"tempimage.png\"\n",
    "                    gdown.download(imageurl, file_name, quiet=True)                    \n",
    "                    print('Image sucessfully Downloaded: ',file_name)\n",
    "                    image = Image.open(file_name)    \n",
    "                else:\n",
    "                    imageurl = rawtext\n",
    "                    response = requests.get(rawtext)\n",
    "                    image = Image.open(BytesIO(response.content))\n",
    "\n",
    "                description = str(row[3])\n",
    "                image_embedding = model.encode([image])                \n",
    "                text_embedding = textmodel.encode(description) \n",
    "                sparse_embedding = splade_ef.encode_documents([description])\n",
    "                bgem3_embedding = bge_m3.encode_documents([description])\n",
    "                filename = \"fieldformghost\" + str(rowCount)\n",
    "                milvus_client.insert(COLLECTION, {\"ghostclass\": str(row[2]),\n",
    "                                                  \"filename\": str(filename),\n",
    "                                                  \"s3path\": str(imageurl),\n",
    "                                                  \"description\": str(description), \n",
    "                                                  \"category\": str(row[4]),\n",
    "                                                  \"identification\":  str(random()*1000),\n",
    "                                                  \"location\": str(row[5]),\n",
    "                                                  \"country\": \"USA\",\n",
    "                                                  \"latitude\": str(\"NA\"),\n",
    "                                                  \"longitude\": str(\"NA\"),\n",
    "                                                  \"zipcode\":str(\"NA\"),\n",
    "                                                  \"timestamp\": str(row[0]),\n",
    "                                                  \"s3timestamp\": str(datetime.now()),\n",
    "                                                  \"vector\": image_embedding[0], \n",
    "                                                  \"text_vector\": sparse_embedding, \n",
    "                                                  \"text_vector2\": text_embedding, \n",
    "                                                  \"text_vector3\": bgem3_embedding[\"dense\"][0]} )\n",
    "            except Exception as e:\n",
    "                print(\"save exception: \")\n",
    "                print(e)\n",
    "\n",
    "### full load stop\n",
    "loadt1 = time.time()\n",
    "\n",
    "print(f\"Inserted Time: {round(loadt1-loadt0, 4)} seconds\\n\\n\")\n",
    "print(\"Inserted \" + str(rowCount) + \" rows.\")"
   ]
  },
  {
   "cell_type": "code",
   "execution_count": null,
   "id": "ac8b8ef2-619a-4d15-a4a7-bb685e5044b2",
   "metadata": {},
   "outputs": [],
   "source": []
  }
 ],
 "metadata": {
  "kernelspec": {
   "display_name": "Python 3 (ipykernel)",
   "language": "python",
   "name": "python3"
  },
  "language_info": {
   "codemirror_mode": {
    "name": "ipython",
    "version": 3
   },
   "file_extension": ".py",
   "mimetype": "text/x-python",
   "name": "python",
   "nbconvert_exporter": "python",
   "pygments_lexer": "ipython3",
   "version": "3.10.15"
  },
  "widgets": {
   "application/vnd.jupyter.widget-state+json": {
    "state": {
     "02783f1f337a4d4991543854a5410618": {
      "model_module": "@jupyter-widgets/controls",
      "model_module_version": "2.0.0",
      "model_name": "FloatProgressModel",
      "state": {
       "bar_style": "success",
       "layout": "IPY_MODEL_6fa0ac2e9d6b4d219e7b7fe9401a664e",
       "max": 30,
       "style": "IPY_MODEL_19d0b2798c2c4166a0620c682f7d7f21",
       "value": 30
      }
     },
     "19d0b2798c2c4166a0620c682f7d7f21": {
      "model_module": "@jupyter-widgets/controls",
      "model_module_version": "2.0.0",
      "model_name": "ProgressStyleModel",
      "state": {
       "description_width": ""
      }
     },
     "1fb70f04e1ab4e5dbf8372f9f3261021": {
      "model_module": "@jupyter-widgets/controls",
      "model_module_version": "2.0.0",
      "model_name": "HTMLModel",
      "state": {
       "layout": "IPY_MODEL_e7c3823272dd4d16b0c8c846694106b7",
       "style": "IPY_MODEL_81c94b353a9042a6abc019b88b998df5",
       "value": "Fetching 30 files: 100%"
      }
     },
     "294e1bf9f28a4da298c83e715e174cf7": {
      "model_module": "@jupyter-widgets/base",
      "model_module_version": "2.0.0",
      "model_name": "LayoutModel",
      "state": {}
     },
     "43a11416b2c84cf99bdc5aad37027afd": {
      "model_module": "@jupyter-widgets/controls",
      "model_module_version": "2.0.0",
      "model_name": "HTMLStyleModel",
      "state": {
       "description_width": "",
       "font_size": null,
       "text_color": null
      }
     },
     "5aa2e4a3c2b04fba9f94bc2607201dbf": {
      "model_module": "@jupyter-widgets/base",
      "model_module_version": "2.0.0",
      "model_name": "LayoutModel",
      "state": {}
     },
     "6681133d2fbc42d3b5f6675c9814069a": {
      "model_module": "@jupyter-widgets/controls",
      "model_module_version": "2.0.0",
      "model_name": "HTMLStyleModel",
      "state": {
       "description_width": "",
       "font_size": null,
       "text_color": null
      }
     },
     "6b42ebd1c23044cdb7f6ccc3b6cdc365": {
      "model_module": "@jupyter-widgets/base",
      "model_module_version": "2.0.0",
      "model_name": "LayoutModel",
      "state": {}
     },
     "6fa0ac2e9d6b4d219e7b7fe9401a664e": {
      "model_module": "@jupyter-widgets/base",
      "model_module_version": "2.0.0",
      "model_name": "LayoutModel",
      "state": {}
     },
     "81c94b353a9042a6abc019b88b998df5": {
      "model_module": "@jupyter-widgets/controls",
      "model_module_version": "2.0.0",
      "model_name": "HTMLStyleModel",
      "state": {
       "description_width": "",
       "font_size": null,
       "text_color": null
      }
     },
     "8cb502f746814efe8921ad54497106f3": {
      "model_module": "@jupyter-widgets/controls",
      "model_module_version": "2.0.0",
      "model_name": "HTMLModel",
      "state": {
       "layout": "IPY_MODEL_5aa2e4a3c2b04fba9f94bc2607201dbf",
       "style": "IPY_MODEL_6681133d2fbc42d3b5f6675c9814069a",
       "value": " 30/30 [00:00&lt;00:00, 1505.58it/s]"
      }
     },
     "97229b17db5542a399f1eeefa8160fdb": {
      "model_module": "@jupyter-widgets/controls",
      "model_module_version": "2.0.0",
      "model_name": "HTMLModel",
      "state": {
       "layout": "IPY_MODEL_e0d43badffec4223a0b56b40577e519f",
       "style": "IPY_MODEL_e675311ea439421ea71faac2b0007289",
       "value": " 30/30 [00:00&lt;00:00, 2517.84it/s]"
      }
     },
     "a287c0ec455244c8b626332e7abcd69a": {
      "model_module": "@jupyter-widgets/controls",
      "model_module_version": "2.0.0",
      "model_name": "FloatProgressModel",
      "state": {
       "bar_style": "success",
       "layout": "IPY_MODEL_ff2f973ae1a74912ab1dae29fc4a846f",
       "max": 30,
       "style": "IPY_MODEL_b5e0c608cba24b3d8f9623ce66dc4153",
       "value": 30
      }
     },
     "a75c633534a8471b8bdd2d39dbb522db": {
      "model_module": "@jupyter-widgets/base",
      "model_module_version": "2.0.0",
      "model_name": "LayoutModel",
      "state": {}
     },
     "b5e0c608cba24b3d8f9623ce66dc4153": {
      "model_module": "@jupyter-widgets/controls",
      "model_module_version": "2.0.0",
      "model_name": "ProgressStyleModel",
      "state": {
       "description_width": ""
      }
     },
     "c7b8b7f68a1c48f4b59000443e724557": {
      "model_module": "@jupyter-widgets/controls",
      "model_module_version": "2.0.0",
      "model_name": "HBoxModel",
      "state": {
       "children": [
        "IPY_MODEL_1fb70f04e1ab4e5dbf8372f9f3261021",
        "IPY_MODEL_a287c0ec455244c8b626332e7abcd69a",
        "IPY_MODEL_8cb502f746814efe8921ad54497106f3"
       ],
       "layout": "IPY_MODEL_294e1bf9f28a4da298c83e715e174cf7"
      }
     },
     "d086961168664a2a91341b9ea0e3da35": {
      "model_module": "@jupyter-widgets/controls",
      "model_module_version": "2.0.0",
      "model_name": "HBoxModel",
      "state": {
       "children": [
        "IPY_MODEL_f71a5909fd054ea1a57efaa4ef43ccdf",
        "IPY_MODEL_02783f1f337a4d4991543854a5410618",
        "IPY_MODEL_97229b17db5542a399f1eeefa8160fdb"
       ],
       "layout": "IPY_MODEL_a75c633534a8471b8bdd2d39dbb522db"
      }
     },
     "e0d43badffec4223a0b56b40577e519f": {
      "model_module": "@jupyter-widgets/base",
      "model_module_version": "2.0.0",
      "model_name": "LayoutModel",
      "state": {}
     },
     "e675311ea439421ea71faac2b0007289": {
      "model_module": "@jupyter-widgets/controls",
      "model_module_version": "2.0.0",
      "model_name": "HTMLStyleModel",
      "state": {
       "description_width": "",
       "font_size": null,
       "text_color": null
      }
     },
     "e7c3823272dd4d16b0c8c846694106b7": {
      "model_module": "@jupyter-widgets/base",
      "model_module_version": "2.0.0",
      "model_name": "LayoutModel",
      "state": {}
     },
     "f71a5909fd054ea1a57efaa4ef43ccdf": {
      "model_module": "@jupyter-widgets/controls",
      "model_module_version": "2.0.0",
      "model_name": "HTMLModel",
      "state": {
       "layout": "IPY_MODEL_6b42ebd1c23044cdb7f6ccc3b6cdc365",
       "style": "IPY_MODEL_43a11416b2c84cf99bdc5aad37027afd",
       "value": "Fetching 30 files: 100%"
      }
     },
     "ff2f973ae1a74912ab1dae29fc4a846f": {
      "model_module": "@jupyter-widgets/base",
      "model_module_version": "2.0.0",
      "model_name": "LayoutModel",
      "state": {}
     }
    },
    "version_major": 2,
    "version_minor": 0
   }
  }
 },
 "nbformat": 4,
 "nbformat_minor": 5
}
